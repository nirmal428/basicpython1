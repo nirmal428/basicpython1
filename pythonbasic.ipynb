{
 "cells": [
  {
   "cell_type": "code",
   "execution_count": 1,
   "id": "298c07f1-4b12-48d5-8fe5-2100d31d78ac",
   "metadata": {},
   "outputs": [],
   "source": [
    " l=[]"
   ]
  },
  {
   "cell_type": "code",
   "execution_count": 2,
   "id": "5f564f55-a084-424d-980e-376497ae83e9",
   "metadata": {},
   "outputs": [
    {
     "data": {
      "text/plain": [
       "list"
      ]
     },
     "execution_count": 2,
     "metadata": {},
     "output_type": "execute_result"
    }
   ],
   "source": [
    "type(l)"
   ]
  },
  {
   "cell_type": "code",
   "execution_count": 3,
   "id": "802f5a79-00c6-466d-866f-461e98446f1b",
   "metadata": {},
   "outputs": [],
   "source": [
    "l=[2,2.22,True,5+6j,'nirmal']"
   ]
  },
  {
   "cell_type": "code",
   "execution_count": 4,
   "id": "2830a2a7-7492-4bf4-a276-7c6c423a72ba",
   "metadata": {},
   "outputs": [
    {
     "data": {
      "text/plain": [
       "list"
      ]
     },
     "execution_count": 4,
     "metadata": {},
     "output_type": "execute_result"
    }
   ],
   "source": [
    "type(l)"
   ]
  },
  {
   "cell_type": "code",
   "execution_count": 5,
   "id": "499bb1a1-574b-4b18-8a9a-a75efe6d372d",
   "metadata": {},
   "outputs": [
    {
     "data": {
      "text/plain": [
       "[2, 2.22, True, (5+6j), 'nirmal']"
      ]
     },
     "execution_count": 5,
     "metadata": {},
     "output_type": "execute_result"
    }
   ],
   "source": [
    " l"
   ]
  },
  {
   "cell_type": "code",
   "execution_count": 9,
   "id": "bf04ada9-0eb4-4681-8da8-5230bb3d4ba2",
   "metadata": {},
   "outputs": [
    {
     "data": {
      "text/plain": [
       "2"
      ]
     },
     "execution_count": 9,
     "metadata": {},
     "output_type": "execute_result"
    }
   ],
   "source": [
    "l[0]"
   ]
  },
  {
   "cell_type": "code",
   "execution_count": 10,
   "id": "130ebd06-03f0-4671-a21f-9499c2eba5a5",
   "metadata": {},
   "outputs": [
    {
     "data": {
      "text/plain": [
       "[2, 2.22, True]"
      ]
     },
     "execution_count": 10,
     "metadata": {},
     "output_type": "execute_result"
    }
   ],
   "source": [
    "l[0:3]"
   ]
  },
  {
   "cell_type": "code",
   "execution_count": 11,
   "id": "989d4716-9d64-44f5-ba0d-55ecdb7e109b",
   "metadata": {},
   "outputs": [
    {
     "data": {
      "text/plain": [
       "(5+6j)"
      ]
     },
     "execution_count": 11,
     "metadata": {},
     "output_type": "execute_result"
    }
   ],
   "source": [
    "l[-2]"
   ]
  },
  {
   "cell_type": "code",
   "execution_count": 12,
   "id": "55993792-1467-4721-8dc8-feb3408ebdb9",
   "metadata": {},
   "outputs": [
    {
     "data": {
      "text/plain": [
       "['nirmal', (5+6j), True, 2.22, 2]"
      ]
     },
     "execution_count": 12,
     "metadata": {},
     "output_type": "execute_result"
    }
   ],
   "source": [
    "l[::-1]"
   ]
  },
  {
   "cell_type": "code",
   "execution_count": 13,
   "id": "6657ab17-b718-45a0-b35b-cf4df2032bae",
   "metadata": {},
   "outputs": [],
   "source": [
    " s='nirmalmaurya'"
   ]
  },
  {
   "cell_type": "code",
   "execution_count": 14,
   "id": "eb28315f-4efe-4861-b335-cb4818fceb7e",
   "metadata": {},
   "outputs": [
    {
     "data": {
      "text/plain": [
       "str"
      ]
     },
     "execution_count": 14,
     "metadata": {},
     "output_type": "execute_result"
    }
   ],
   "source": [
    "type(s)"
   ]
  },
  {
   "cell_type": "code",
   "execution_count": 15,
   "id": "136141c1-a13d-4ab8-974f-58f0109126dd",
   "metadata": {},
   "outputs": [
    {
     "data": {
      "text/plain": [
       "['n', 'i', 'r', 'm', 'a', 'l', 'm', 'a', 'u', 'r', 'y', 'a']"
      ]
     },
     "execution_count": 15,
     "metadata": {},
     "output_type": "execute_result"
    }
   ],
   "source": [
    "list(s)"
   ]
  },
  {
   "cell_type": "code",
   "execution_count": 16,
   "id": "ce687953-2252-4d7f-9dde-460bcaafd884",
   "metadata": {},
   "outputs": [
    {
     "data": {
      "text/plain": [
       "['n',\n",
       " 'i',\n",
       " 'r',\n",
       " 'm',\n",
       " 'a',\n",
       " 'l',\n",
       " 'm',\n",
       " 'a',\n",
       " 'u',\n",
       " 'r',\n",
       " 'y',\n",
       " 'a',\n",
       " 2,\n",
       " 2.22,\n",
       " True,\n",
       " (5+6j),\n",
       " 'nirmal']"
      ]
     },
     "execution_count": 16,
     "metadata": {},
     "output_type": "execute_result"
    }
   ],
   "source": [
    "list(s)+l"
   ]
  },
  {
   "cell_type": "code",
   "execution_count": 17,
   "id": "9107d129-272c-443a-9a67-108cba111d87",
   "metadata": {},
   "outputs": [
    {
     "data": {
      "text/plain": [
       "[2, 2.22, True, (5+6j), 'nirmal']"
      ]
     },
     "execution_count": 17,
     "metadata": {},
     "output_type": "execute_result"
    }
   ],
   "source": [
    "l"
   ]
  },
  {
   "cell_type": "code",
   "execution_count": 19,
   "id": "71be4894-ee3c-419b-b84f-5e75628b637f",
   "metadata": {},
   "outputs": [
    {
     "data": {
      "text/plain": [
       "'nirmal'"
      ]
     },
     "execution_count": 19,
     "metadata": {},
     "output_type": "execute_result"
    }
   ],
   "source": [
    "l[4]"
   ]
  },
  {
   "cell_type": "code",
   "execution_count": 20,
   "id": "af1d874c-7017-4aef-b101-d2d1df7f2883",
   "metadata": {},
   "outputs": [
    {
     "data": {
      "text/plain": [
       "'nir'"
      ]
     },
     "execution_count": 20,
     "metadata": {},
     "output_type": "execute_result"
    }
   ],
   "source": [
    "l[4][0:3]"
   ]
  },
  {
   "cell_type": "code",
   "execution_count": 22,
   "id": "8c39950d-4ee2-4594-bb1e-0a422e43f52f",
   "metadata": {},
   "outputs": [
    {
     "data": {
      "text/plain": [
       "'Tr'"
      ]
     },
     "execution_count": 22,
     "metadata": {},
     "output_type": "execute_result"
    }
   ],
   "source": [
    "str(l[2])[0:2]"
   ]
  },
  {
   "cell_type": "code",
   "execution_count": 24,
   "id": "16641638-8a5a-4b6a-a349-9f7b7631725d",
   "metadata": {},
   "outputs": [
    {
     "data": {
      "text/plain": [
       "[2, 2.22, True, (5+6j), 'nirmal', 5]"
      ]
     },
     "execution_count": 24,
     "metadata": {},
     "output_type": "execute_result"
    }
   ],
   "source": [
    "l+[5]"
   ]
  },
  {
   "cell_type": "code",
   "execution_count": 26,
   "id": "dc076d0c-91d2-4227-ac0c-0a56288a87d5",
   "metadata": {},
   "outputs": [],
   "source": [
    "l1=[3,4,5.44]"
   ]
  },
  {
   "cell_type": "code",
   "execution_count": 27,
   "id": "de033d2f-32b1-4b0b-85e2-440ee7283931",
   "metadata": {},
   "outputs": [
    {
     "data": {
      "text/plain": [
       "[2, 2.22, True, (5+6j), 'nirmal', 3, 4, 5.44]"
      ]
     },
     "execution_count": 27,
     "metadata": {},
     "output_type": "execute_result"
    }
   ],
   "source": [
    "l+l1"
   ]
  },
  {
   "cell_type": "code",
   "execution_count": 27,
   "id": "4720eee2-1de0-474a-ac04-1b5c300623c4",
   "metadata": {},
   "outputs": [
    {
     "data": {
      "text/plain": [
       "[2, 2.22, True, (5+6j), 'nirmal', 3, 4, 5.44]"
      ]
     },
     "execution_count": 27,
     "metadata": {},
     "output_type": "execute_result"
    }
   ],
   "source": [
    "l+l1"
   ]
  },
  {
   "cell_type": "code",
   "execution_count": 28,
   "id": "1e6d415f-d71a-4b5e-88f1-60168916a1a4",
   "metadata": {},
   "outputs": [
    {
     "data": {
      "text/plain": [
       "[3, 4, 5.44, 3, 4, 5.44]"
      ]
     },
     "execution_count": 28,
     "metadata": {},
     "output_type": "execute_result"
    }
   ],
   "source": [
    "l1*2"
   ]
  },
  {
   "cell_type": "code",
   "execution_count": 29,
   "id": "752d6040-2b0c-4369-9b0c-bfffe0ef5061",
   "metadata": {},
   "outputs": [],
   "source": [
    "l2=[2, 2.22, True, (5+6j), 'nirmal', 3, 4, 5.44]"
   ]
  },
  {
   "cell_type": "code",
   "execution_count": 30,
   "id": "44d23517-c12c-45f1-8bdc-72c5bf6d55ec",
   "metadata": {},
   "outputs": [
    {
     "data": {
      "text/plain": [
       "8"
      ]
     },
     "execution_count": 30,
     "metadata": {},
     "output_type": "execute_result"
    }
   ],
   "source": [
    "len(l2)"
   ]
  },
  {
   "cell_type": "code",
   "execution_count": 31,
   "id": "2884213b-1c1e-4874-9ad2-56ca09e4aee5",
   "metadata": {},
   "outputs": [],
   "source": [
    "l.append(99)"
   ]
  },
  {
   "cell_type": "code",
   "execution_count": 32,
   "id": "686d3424-fc55-43f7-93ec-05754fad6dba",
   "metadata": {},
   "outputs": [
    {
     "data": {
      "text/plain": [
       "[2, 2.22, True, (5+6j), 'nirmal', 99]"
      ]
     },
     "execution_count": 32,
     "metadata": {},
     "output_type": "execute_result"
    }
   ],
   "source": [
    "l"
   ]
  },
  {
   "cell_type": "code",
   "execution_count": 33,
   "id": "8fc5ee4e-c364-47fc-85f7-abe0360502b6",
   "metadata": {},
   "outputs": [],
   "source": [
    "l.append(l1)"
   ]
  },
  {
   "cell_type": "code",
   "execution_count": 34,
   "id": "8589a8d2-1859-4b70-afcc-9a137d36261f",
   "metadata": {},
   "outputs": [
    {
     "data": {
      "text/plain": [
       "[2, 2.22, True, (5+6j), 'nirmal', 99, [3, 4, 5.44]]"
      ]
     },
     "execution_count": 34,
     "metadata": {},
     "output_type": "execute_result"
    }
   ],
   "source": [
    "l"
   ]
  },
  {
   "cell_type": "code",
   "execution_count": 35,
   "id": "8184e6d5-5ecd-490a-a8d2-f92ae4bd8cf2",
   "metadata": {},
   "outputs": [
    {
     "data": {
      "text/plain": [
       "[3, 4, 5.44]"
      ]
     },
     "execution_count": 35,
     "metadata": {},
     "output_type": "execute_result"
    }
   ],
   "source": [
    "l[-1]"
   ]
  },
  {
   "cell_type": "code",
   "execution_count": 36,
   "id": "9b41a029-28c4-4344-9856-881b44430372",
   "metadata": {},
   "outputs": [
    {
     "data": {
      "text/plain": [
       "4"
      ]
     },
     "execution_count": 36,
     "metadata": {},
     "output_type": "execute_result"
    }
   ],
   "source": [
    "l[-1][1]"
   ]
  },
  {
   "cell_type": "code",
   "execution_count": 37,
   "id": "b6d04456-3dd9-4af0-afb6-84475c4b63cc",
   "metadata": {},
   "outputs": [],
   "source": [
    "l.extend('nirmal')"
   ]
  },
  {
   "cell_type": "code",
   "execution_count": 38,
   "id": "434db630-2f57-448a-a730-6124a3815a1a",
   "metadata": {},
   "outputs": [
    {
     "data": {
      "text/plain": [
       "[2,\n",
       " 2.22,\n",
       " True,\n",
       " (5+6j),\n",
       " 'nirmal',\n",
       " 99,\n",
       " [3, 4, 5.44],\n",
       " 'n',\n",
       " 'i',\n",
       " 'r',\n",
       " 'm',\n",
       " 'a',\n",
       " 'l']"
      ]
     },
     "execution_count": 38,
     "metadata": {},
     "output_type": "execute_result"
    }
   ],
   "source": [
    "l"
   ]
  },
  {
   "cell_type": "code",
   "execution_count": 39,
   "id": "6f9cb823-fcaf-4f7d-8043-efe7d1ffe9d6",
   "metadata": {},
   "outputs": [],
   "source": [
    "l.extend([8,9,7])"
   ]
  },
  {
   "cell_type": "code",
   "execution_count": 40,
   "id": "42230b8d-8c5f-4c39-bb44-d7d99f357892",
   "metadata": {},
   "outputs": [
    {
     "data": {
      "text/plain": [
       "[2,\n",
       " 2.22,\n",
       " True,\n",
       " (5+6j),\n",
       " 'nirmal',\n",
       " 99,\n",
       " [3, 4, 5.44],\n",
       " 'n',\n",
       " 'i',\n",
       " 'r',\n",
       " 'm',\n",
       " 'a',\n",
       " 'l',\n",
       " 8,\n",
       " 9,\n",
       " 7]"
      ]
     },
     "execution_count": 40,
     "metadata": {},
     "output_type": "execute_result"
    }
   ],
   "source": [
    "l"
   ]
  },
  {
   "cell_type": "code",
   "execution_count": 42,
   "id": "1a197ef1-aaf7-4bdd-930f-4749bc51f16b",
   "metadata": {},
   "outputs": [],
   "source": [
    "l1.insert(0,'maurya')"
   ]
  },
  {
   "cell_type": "code",
   "execution_count": 43,
   "id": "8d5b4597-4c54-48a2-a744-6ee67255fa1e",
   "metadata": {},
   "outputs": [
    {
     "data": {
      "text/plain": [
       "['maurya', 3, 4, 5.44]"
      ]
     },
     "execution_count": 43,
     "metadata": {},
     "output_type": "execute_result"
    }
   ],
   "source": [
    "l1"
   ]
  },
  {
   "cell_type": "code",
   "execution_count": 45,
   "id": "011000ba-e6cc-4907-a54c-0c8bc1adf9e2",
   "metadata": {},
   "outputs": [],
   "source": [
    "l1.insert(1,[81,2])"
   ]
  },
  {
   "cell_type": "code",
   "execution_count": 3,
   "id": "071ede0d-d776-495a-8c11-0ca66482447f",
   "metadata": {},
   "outputs": [
    {
     "ename": "NameError",
     "evalue": "name 'l1' is not defined",
     "output_type": "error",
     "traceback": [
      "\u001b[0;31m---------------------------------------------------------------------------\u001b[0m",
      "\u001b[0;31mNameError\u001b[0m                                 Traceback (most recent call last)",
      "Cell \u001b[0;32mIn [3], line 1\u001b[0m\n\u001b[0;32m----> 1\u001b[0m \u001b[43ml1\u001b[49m\n",
      "\u001b[0;31mNameError\u001b[0m: name 'l1' is not defined"
     ]
    }
   ],
   "source": [
    "l1"
   ]
  },
  {
   "cell_type": "code",
   "execution_count": 2,
   "id": "34397f67-8329-4a1b-bbab-fddc3d51a7f1",
   "metadata": {},
   "outputs": [
    {
     "ename": "NameError",
     "evalue": "name 'l' is not defined",
     "output_type": "error",
     "traceback": [
      "\u001b[0;31m---------------------------------------------------------------------------\u001b[0m",
      "\u001b[0;31mNameError\u001b[0m                                 Traceback (most recent call last)",
      "Cell \u001b[0;32mIn [2], line 1\u001b[0m\n\u001b[0;32m----> 1\u001b[0m \u001b[43ml\u001b[49m\n",
      "\u001b[0;31mNameError\u001b[0m: name 'l' is not defined"
     ]
    }
   ],
   "source": [
    "l"
   ]
  },
  {
   "cell_type": "code",
   "execution_count": 48,
   "id": "7cba02ca-6b1e-4317-bd7d-51dc4714cbe5",
   "metadata": {},
   "outputs": [
    {
     "data": {
      "text/plain": [
       "[2,\n",
       " 2.22,\n",
       " True,\n",
       " (5+6j),\n",
       " 'nirmal',\n",
       " 99,\n",
       " ['maurya', [81, 2], 3, 4, 5.44],\n",
       " 'n',\n",
       " 'i',\n",
       " 'r',\n",
       " 'm',\n",
       " 'a',\n",
       " 'l',\n",
       " 8,\n",
       " 9,\n",
       " 7,\n",
       " 'maurya',\n",
       " [81, 2],\n",
       " 3,\n",
       " 4,\n",
       " 5.44]"
      ]
     },
     "execution_count": 48,
     "metadata": {},
     "output_type": "execute_result"
    }
   ],
   "source": [
    "l+l1"
   ]
  },
  {
   "cell_type": "code",
   "execution_count": 50,
   "id": "4540b252-bae3-49dd-8b64-2af62e273113",
   "metadata": {},
   "outputs": [
    {
     "ename": "TypeError",
     "evalue": "unsupported operand type(s) for -: 'list' and 'list'",
     "output_type": "error",
     "traceback": [
      "\u001b[0;31m---------------------------------------------------------------------------\u001b[0m",
      "\u001b[0;31mTypeError\u001b[0m                                 Traceback (most recent call last)",
      "Cell \u001b[0;32mIn [50], line 1\u001b[0m\n\u001b[0;32m----> 1\u001b[0m \u001b[43ml\u001b[49m\u001b[38;5;241;43m-\u001b[39;49m\u001b[43ml1\u001b[49m\n",
      "\u001b[0;31mTypeError\u001b[0m: unsupported operand type(s) for -: 'list' and 'list'"
     ]
    }
   ],
   "source": [
    "l-l1"
   ]
  },
  {
   "cell_type": "code",
   "execution_count": 51,
   "id": "ceb9b35c-9e46-4e5b-a857-4e5f1381fe54",
   "metadata": {},
   "outputs": [
    {
     "data": {
      "text/plain": [
       "['maurya', [81, 2], 3, 4, 5.44]"
      ]
     },
     "execution_count": 51,
     "metadata": {},
     "output_type": "execute_result"
    }
   ],
   "source": [
    "l1"
   ]
  },
  {
   "cell_type": "code",
   "execution_count": 52,
   "id": "39dd52fd-614b-4ade-b659-88e9c5caa180",
   "metadata": {},
   "outputs": [],
   "source": [
    "l1.insert(-1,45)"
   ]
  },
  {
   "cell_type": "code",
   "execution_count": 53,
   "id": "81c15bab-4686-4d00-b964-024e679c506f",
   "metadata": {},
   "outputs": [
    {
     "data": {
      "text/plain": [
       "['maurya', [81, 2], 3, 4, 45, 5.44]"
      ]
     },
     "execution_count": 53,
     "metadata": {},
     "output_type": "execute_result"
    }
   ],
   "source": [
    "l1"
   ]
  },
  {
   "cell_type": "code",
   "execution_count": 1,
   "id": "424a6368-1feb-4a30-89c3-525f7c23dacc",
   "metadata": {},
   "outputs": [
    {
     "ename": "NameError",
     "evalue": "name 'l' is not defined",
     "output_type": "error",
     "traceback": [
      "\u001b[0;31m---------------------------------------------------------------------------\u001b[0m",
      "\u001b[0;31mNameError\u001b[0m                                 Traceback (most recent call last)",
      "Cell \u001b[0;32mIn [1], line 1\u001b[0m\n\u001b[0;32m----> 1\u001b[0m \u001b[43ml\u001b[49m\n",
      "\u001b[0;31mNameError\u001b[0m: name 'l' is not defined"
     ]
    }
   ],
   "source": [
    "l"
   ]
  },
  {
   "cell_type": "code",
   "execution_count": 4,
   "id": "a0a39d02-00f2-44aa-920d-2ccceb9dde49",
   "metadata": {},
   "outputs": [
    {
     "ename": "NameError",
     "evalue": "name 'l1' is not defined",
     "output_type": "error",
     "traceback": [
      "\u001b[0;31m---------------------------------------------------------------------------\u001b[0m",
      "\u001b[0;31mNameError\u001b[0m                                 Traceback (most recent call last)",
      "Cell \u001b[0;32mIn [4], line 1\u001b[0m\n\u001b[0;32m----> 1\u001b[0m \u001b[43ml1\u001b[49m\n",
      "\u001b[0;31mNameError\u001b[0m: name 'l1' is not defined"
     ]
    }
   ],
   "source": [
    "l1"
   ]
  },
  {
   "cell_type": "code",
   "execution_count": 6,
   "id": "6dc90d11-4d5a-4c5d-ad16-bb07fc490e32",
   "metadata": {},
   "outputs": [],
   "source": [
    "l=[2, 2.22, True, (5+6j), 'nirmal', 99, [3, 4, 5.44]]"
   ]
  },
  {
   "cell_type": "code",
   "execution_count": 7,
   "id": "f1293976-d15f-4055-8d38-908e6d6c5381",
   "metadata": {},
   "outputs": [
    {
     "data": {
      "text/plain": [
       "[2, 2.22, True, (5+6j), 'nirmal', 99, [3, 4, 5.44]]"
      ]
     },
     "execution_count": 7,
     "metadata": {},
     "output_type": "execute_result"
    }
   ],
   "source": [
    "l"
   ]
  },
  {
   "cell_type": "code",
   "execution_count": 8,
   "id": "29ac672d-4e09-4926-af73-6d13cf29e812",
   "metadata": {},
   "outputs": [],
   "source": [
    "l.insert(1,443)"
   ]
  },
  {
   "cell_type": "code",
   "execution_count": 9,
   "id": "4087a7fc-b919-4d71-8559-dee4c03c2d85",
   "metadata": {},
   "outputs": [
    {
     "data": {
      "text/plain": [
       "[2, 443, 2.22, True, (5+6j), 'nirmal', 99, [3, 4, 5.44]]"
      ]
     },
     "execution_count": 9,
     "metadata": {},
     "output_type": "execute_result"
    }
   ],
   "source": [
    "l"
   ]
  },
  {
   "cell_type": "code",
   "execution_count": 10,
   "id": "49974e17-a7e7-43ad-a4d2-91a4cb6498fa",
   "metadata": {},
   "outputs": [],
   "source": [
    "l.insert(-1,909)"
   ]
  },
  {
   "cell_type": "code",
   "execution_count": 11,
   "id": "c371d2c8-630f-422f-b8f8-b563951c2c17",
   "metadata": {},
   "outputs": [
    {
     "data": {
      "text/plain": [
       "[2, 443, 2.22, True, (5+6j), 'nirmal', 99, 909, [3, 4, 5.44]]"
      ]
     },
     "execution_count": 11,
     "metadata": {},
     "output_type": "execute_result"
    }
   ],
   "source": [
    "l"
   ]
  },
  {
   "cell_type": "code",
   "execution_count": 12,
   "id": "d6df494c-5ff7-4503-ba5a-d66137d5597b",
   "metadata": {},
   "outputs": [],
   "source": [
    "l.insert(4,'maya')"
   ]
  },
  {
   "cell_type": "code",
   "execution_count": 13,
   "id": "e69c9af4-d771-4c4c-8dfa-78511a1679ae",
   "metadata": {},
   "outputs": [
    {
     "data": {
      "text/plain": [
       "[2, 443, 2.22, True, 'maya', (5+6j), 'nirmal', 99, 909, [3, 4, 5.44]]"
      ]
     },
     "execution_count": 13,
     "metadata": {},
     "output_type": "execute_result"
    }
   ],
   "source": [
    "l"
   ]
  },
  {
   "cell_type": "code",
   "execution_count": 14,
   "id": "f36e1f58-314f-4a21-a600-f85bbb9d1599",
   "metadata": {},
   "outputs": [
    {
     "data": {
      "text/plain": [
       "[3, 4, 5.44]"
      ]
     },
     "execution_count": 14,
     "metadata": {},
     "output_type": "execute_result"
    }
   ],
   "source": [
    "l.pop()"
   ]
  },
  {
   "cell_type": "code",
   "execution_count": 15,
   "id": "ed6cec4a-62e6-4fd4-92ba-acee5554242b",
   "metadata": {},
   "outputs": [
    {
     "data": {
      "text/plain": [
       "909"
      ]
     },
     "execution_count": 15,
     "metadata": {},
     "output_type": "execute_result"
    }
   ],
   "source": [
    "l.pop()"
   ]
  },
  {
   "cell_type": "code",
   "execution_count": 16,
   "id": "4d5a56cc-6c39-4ebd-a2fe-b4e01d95c8cd",
   "metadata": {},
   "outputs": [
    {
     "data": {
      "text/plain": [
       "2.22"
      ]
     },
     "execution_count": 16,
     "metadata": {},
     "output_type": "execute_result"
    }
   ],
   "source": [
    "l.pop(2)"
   ]
  },
  {
   "cell_type": "code",
   "execution_count": 17,
   "id": "b7340be9-7bda-46af-b50a-5fdfcd22dafb",
   "metadata": {},
   "outputs": [
    {
     "data": {
      "text/plain": [
       "[2, 443, True, 'maya', (5+6j), 'nirmal', 99]"
      ]
     },
     "execution_count": 17,
     "metadata": {},
     "output_type": "execute_result"
    }
   ],
   "source": [
    "l"
   ]
  },
  {
   "cell_type": "code",
   "execution_count": 18,
   "id": "d5698b53-3b9e-4931-be5c-abd3e00fc1fb",
   "metadata": {},
   "outputs": [],
   "source": [
    "l.remove('maya')"
   ]
  },
  {
   "cell_type": "code",
   "execution_count": 19,
   "id": "52a976e0-867c-4a61-aac4-42c187887a7f",
   "metadata": {},
   "outputs": [
    {
     "data": {
      "text/plain": [
       "[2, 443, True, (5+6j), 'nirmal', 99]"
      ]
     },
     "execution_count": 19,
     "metadata": {},
     "output_type": "execute_result"
    }
   ],
   "source": [
    "l"
   ]
  },
  {
   "cell_type": "code",
   "execution_count": 20,
   "id": "203e7158-8c72-44cd-aa43-085bf1ed6fc3",
   "metadata": {},
   "outputs": [
    {
     "ename": "ValueError",
     "evalue": "list.remove(x): x not in list",
     "output_type": "error",
     "traceback": [
      "\u001b[0;31m---------------------------------------------------------------------------\u001b[0m",
      "\u001b[0;31mValueError\u001b[0m                                Traceback (most recent call last)",
      "Cell \u001b[0;32mIn [20], line 1\u001b[0m\n\u001b[0;32m----> 1\u001b[0m \u001b[43ml\u001b[49m\u001b[38;5;241;43m.\u001b[39;49m\u001b[43mremove\u001b[49m\u001b[43m(\u001b[49m\u001b[38;5;241;43m78678\u001b[39;49m\u001b[43m)\u001b[49m\n",
      "\u001b[0;31mValueError\u001b[0m: list.remove(x): x not in list"
     ]
    }
   ],
   "source": [
    "l.remove(78678)"
   ]
  },
  {
   "cell_type": "code",
   "execution_count": 22,
   "id": "d4d2c084-1b68-410f-a653-712bf87819e7",
   "metadata": {},
   "outputs": [
    {
     "ename": "TypeError",
     "evalue": "'list' object is not callable",
     "output_type": "error",
     "traceback": [
      "\u001b[0;31m---------------------------------------------------------------------------\u001b[0m",
      "\u001b[0;31mTypeError\u001b[0m                                 Traceback (most recent call last)",
      "Cell \u001b[0;32mIn [22], line 1\u001b[0m\n\u001b[0;32m----> 1\u001b[0m \u001b[43ml\u001b[49m\u001b[43m(\u001b[49m\u001b[38;5;241;43m4\u001b[39;49m\u001b[43m)\u001b[49m\u001b[38;5;241m.\u001b[39mremove(i)\n",
      "\u001b[0;31mTypeError\u001b[0m: 'list' object is not callable"
     ]
    }
   ],
   "source": [
    "l(4).remove(i)"
   ]
  },
  {
   "cell_type": "code",
   "execution_count": 26,
   "id": "3d84a1a6-3fa6-445d-a3a2-83005ff8ffc2",
   "metadata": {},
   "outputs": [],
   "source": [
    "l.append(908)"
   ]
  },
  {
   "cell_type": "code",
   "execution_count": 27,
   "id": "060379b3-cdf3-4538-880a-2cb34392ff86",
   "metadata": {},
   "outputs": [
    {
     "data": {
      "text/plain": [
       "[2, 443, True, (5+6j), 'nirmal', 99, 4, 4, 908]"
      ]
     },
     "execution_count": 27,
     "metadata": {},
     "output_type": "execute_result"
    }
   ],
   "source": [
    "l"
   ]
  },
  {
   "cell_type": "code",
   "execution_count": 29,
   "id": "e638e6a7-48c8-4066-890c-8f3a70c59e53",
   "metadata": {},
   "outputs": [],
   "source": [
    "l.extend([3,4,5])"
   ]
  },
  {
   "cell_type": "code",
   "execution_count": 30,
   "id": "b68caa12-c857-4f83-9c97-52a79f6b712f",
   "metadata": {},
   "outputs": [
    {
     "data": {
      "text/plain": [
       "[2, 443, True, (5+6j), 'nirmal', 99, 4, 4, 908, 3, 4, 5]"
      ]
     },
     "execution_count": 30,
     "metadata": {},
     "output_type": "execute_result"
    }
   ],
   "source": [
    "l"
   ]
  },
  {
   "cell_type": "code",
   "execution_count": 31,
   "id": "c9327efb-f60a-4f44-a1ed-5ba8bce47bcc",
   "metadata": {},
   "outputs": [
    {
     "data": {
      "text/plain": [
       "[5, 4, 3, 908, 4, 4, 99, 'nirmal', (5+6j), True, 443, 2]"
      ]
     },
     "execution_count": 31,
     "metadata": {},
     "output_type": "execute_result"
    }
   ],
   "source": [
    "l[::-1]"
   ]
  },
  {
   "cell_type": "code",
   "execution_count": 34,
   "id": "b34840f9-dd4b-43ff-9838-8cb9ab3e688c",
   "metadata": {},
   "outputs": [],
   "source": [
    "l.reverse()"
   ]
  },
  {
   "cell_type": "code",
   "execution_count": 35,
   "id": "3f8bf018-8788-4bdb-b3ae-726e13af254f",
   "metadata": {},
   "outputs": [
    {
     "data": {
      "text/plain": [
       "[5, 4, 3, 908, 4, 4, 99, 'nirmal', (5+6j), True, 443, 2]"
      ]
     },
     "execution_count": 35,
     "metadata": {},
     "output_type": "execute_result"
    }
   ],
   "source": [
    "l"
   ]
  },
  {
   "cell_type": "code",
   "execution_count": 36,
   "id": "fb3536b2-29e7-4313-9b01-d6db74a97302",
   "metadata": {},
   "outputs": [],
   "source": [
    "l=l[::-1]"
   ]
  },
  {
   "cell_type": "code",
   "execution_count": 37,
   "id": "ef8cdf24-67cc-42ae-81e4-5f9f1e4c69b1",
   "metadata": {},
   "outputs": [
    {
     "data": {
      "text/plain": [
       "[2, 443, True, (5+6j), 'nirmal', 99, 4, 4, 908, 3, 4, 5]"
      ]
     },
     "execution_count": 37,
     "metadata": {},
     "output_type": "execute_result"
    }
   ],
   "source": [
    "l"
   ]
  },
  {
   "cell_type": "code",
   "execution_count": 38,
   "id": "44999a41-df76-4e66-bc20-4841def32e2b",
   "metadata": {},
   "outputs": [
    {
     "ename": "AttributeError",
     "evalue": "'list' object has no attribute 'short'",
     "output_type": "error",
     "traceback": [
      "\u001b[0;31m---------------------------------------------------------------------------\u001b[0m",
      "\u001b[0;31mAttributeError\u001b[0m                            Traceback (most recent call last)",
      "Cell \u001b[0;32mIn [38], line 1\u001b[0m\n\u001b[0;32m----> 1\u001b[0m \u001b[43ml\u001b[49m\u001b[38;5;241;43m.\u001b[39;49m\u001b[43mshort\u001b[49m()\n",
      "\u001b[0;31mAttributeError\u001b[0m: 'list' object has no attribute 'short'"
     ]
    }
   ],
   "source": [
    "l.short()"
   ]
  },
  {
   "cell_type": "code",
   "execution_count": 45,
   "id": "7108b650-b9c8-498e-bc5b-81e6b5900f71",
   "metadata": {},
   "outputs": [],
   "source": [
    "l1=[1,24,3,35,57,6,87,62,8,4,9]"
   ]
  },
  {
   "cell_type": "code",
   "execution_count": 43,
   "id": "0b3e48ab-d017-43bf-9b2a-9650bb319dac",
   "metadata": {},
   "outputs": [],
   "source": [
    "l1.sort()"
   ]
  },
  {
   "cell_type": "code",
   "execution_count": 44,
   "id": "32a8fd45-6adb-44f3-9592-9c8b491c66f1",
   "metadata": {},
   "outputs": [
    {
     "data": {
      "text/plain": [
       "[1, 2, 3, 5, 6, 35]"
      ]
     },
     "execution_count": 44,
     "metadata": {},
     "output_type": "execute_result"
    }
   ],
   "source": [
    "l1"
   ]
  },
  {
   "cell_type": "code",
   "execution_count": 46,
   "id": "b0e48f99-38f9-4f7b-b73d-71dbed692cc6",
   "metadata": {},
   "outputs": [
    {
     "data": {
      "text/plain": [
       "[1, 24, 3, 35, 57, 6, 87, 62, 8, 4, 9]"
      ]
     },
     "execution_count": 46,
     "metadata": {},
     "output_type": "execute_result"
    }
   ],
   "source": [
    "l1"
   ]
  },
  {
   "cell_type": "code",
   "execution_count": 47,
   "id": "b29e5067-e9bf-4c51-a934-5ff0809a374f",
   "metadata": {},
   "outputs": [],
   "source": [
    "l1.sort()"
   ]
  },
  {
   "cell_type": "code",
   "execution_count": 48,
   "id": "2c46e566-b205-4b94-8307-986f644cc27f",
   "metadata": {},
   "outputs": [
    {
     "data": {
      "text/plain": [
       "[1, 3, 4, 6, 8, 9, 24, 35, 57, 62, 87]"
      ]
     },
     "execution_count": 48,
     "metadata": {},
     "output_type": "execute_result"
    }
   ],
   "source": [
    "l1"
   ]
  },
  {
   "cell_type": "code",
   "execution_count": 49,
   "id": "e7d8eb0c-b1dc-4db8-8dfb-b6d9947a196f",
   "metadata": {},
   "outputs": [],
   "source": [
    "l2=[22,34,21,43,5,62,53]"
   ]
  },
  {
   "cell_type": "code",
   "execution_count": 50,
   "id": "3d8199b1-4743-47aa-8450-614b52df4ee5",
   "metadata": {},
   "outputs": [],
   "source": [
    "l2.sort()"
   ]
  },
  {
   "cell_type": "code",
   "execution_count": 51,
   "id": "0cc13bac-8138-4d16-85aa-0c683b7aaca1",
   "metadata": {},
   "outputs": [
    {
     "data": {
      "text/plain": [
       "[5, 21, 22, 34, 43, 53, 62]"
      ]
     },
     "execution_count": 51,
     "metadata": {},
     "output_type": "execute_result"
    }
   ],
   "source": [
    "l2"
   ]
  },
  {
   "cell_type": "code",
   "execution_count": 55,
   "id": "70b9759b-d992-4f4c-ac90-83c329534f26",
   "metadata": {},
   "outputs": [],
   "source": [
    "l3.sort()"
   ]
  },
  {
   "cell_type": "code",
   "execution_count": 56,
   "id": "37090700-36cd-4703-bacb-a2ca73dd81e0",
   "metadata": {},
   "outputs": [
    {
     "data": {
      "text/plain": [
       "['datascience', 'jai', 'mauryaa', 'nirmal']"
      ]
     },
     "execution_count": 56,
     "metadata": {},
     "output_type": "execute_result"
    }
   ],
   "source": [
    "l3"
   ]
  },
  {
   "cell_type": "code",
   "execution_count": 57,
   "id": "9eada6b8-8bb0-47cc-9a28-1789095409e5",
   "metadata": {},
   "outputs": [],
   "source": [
    "l3=['nirmal','mauryaa','jai','datascience']"
   ]
  },
  {
   "cell_type": "code",
   "execution_count": 58,
   "id": "697665f3-49f2-47e5-a4ff-c195bddf4232",
   "metadata": {},
   "outputs": [],
   "source": [
    "l3.sort()"
   ]
  },
  {
   "cell_type": "code",
   "execution_count": 59,
   "id": "13ea7388-f601-488f-8f7a-1443020677e2",
   "metadata": {},
   "outputs": [
    {
     "data": {
      "text/plain": [
       "['datascience', 'jai', 'mauryaa', 'nirmal']"
      ]
     },
     "execution_count": 59,
     "metadata": {},
     "output_type": "execute_result"
    }
   ],
   "source": [
    "l3"
   ]
  },
  {
   "cell_type": "code",
   "execution_count": 61,
   "id": "7abce91e-30af-45ca-81c5-8584c7058984",
   "metadata": {},
   "outputs": [
    {
     "data": {
      "text/plain": [
       "3"
      ]
     },
     "execution_count": 61,
     "metadata": {},
     "output_type": "execute_result"
    }
   ],
   "source": [
    "l3.index('nirmal')"
   ]
  },
  {
   "cell_type": "code",
   "execution_count": 62,
   "id": "5b037fab-bee7-4559-b25f-df70da78277f",
   "metadata": {},
   "outputs": [
    {
     "data": {
      "text/plain": [
       "1"
      ]
     },
     "execution_count": 62,
     "metadata": {},
     "output_type": "execute_result"
    }
   ],
   "source": [
    "l3.count('jai')"
   ]
  },
  {
   "cell_type": "code",
   "execution_count": 63,
   "id": "0560edda-6971-472a-a5d3-a63441e48fa7",
   "metadata": {},
   "outputs": [],
   "source": [
    "s=\"nirmal\""
   ]
  },
  {
   "cell_type": "code",
   "execution_count": 64,
   "id": "782aa98b-1d76-4bb6-b51f-620ffb25dacb",
   "metadata": {},
   "outputs": [
    {
     "data": {
      "text/plain": [
       "'n'"
      ]
     },
     "execution_count": 64,
     "metadata": {},
     "output_type": "execute_result"
    }
   ],
   "source": [
    "s[0]"
   ]
  },
  {
   "cell_type": "code",
   "execution_count": 65,
   "id": "977802a5-b381-4f3f-b82d-002e9e2ec173",
   "metadata": {},
   "outputs": [],
   "source": [
    "l5=[5,6,7]"
   ]
  },
  {
   "cell_type": "code",
   "execution_count": 66,
   "id": "69f2b359-fda5-4657-a054-60c8eaa96b3e",
   "metadata": {},
   "outputs": [],
   "source": [
    "l5[0]=60"
   ]
  },
  {
   "cell_type": "code",
   "execution_count": 67,
   "id": "4c4e33d5-35b5-4bf1-b88e-755a2f41a031",
   "metadata": {},
   "outputs": [
    {
     "data": {
      "text/plain": [
       "[60, 6, 7]"
      ]
     },
     "execution_count": 67,
     "metadata": {},
     "output_type": "execute_result"
    }
   ],
   "source": [
    "l5"
   ]
  },
  {
   "cell_type": "code",
   "execution_count": 68,
   "id": "b848a36d-00ee-48f7-9841-e67d909c1030",
   "metadata": {},
   "outputs": [
    {
     "data": {
      "text/plain": [
       "'nirmal'"
      ]
     },
     "execution_count": 68,
     "metadata": {},
     "output_type": "execute_result"
    }
   ],
   "source": [
    "s"
   ]
  },
  {
   "cell_type": "code",
   "execution_count": 71,
   "id": "bd492da1-d016-4cef-93c3-2d75fb7389a3",
   "metadata": {},
   "outputs": [],
   "source": [
    "s=s.replace('n','k')"
   ]
  },
  {
   "cell_type": "code",
   "execution_count": 72,
   "id": "3a144f17-6da9-4a6a-87a5-6d8e9f9f85e0",
   "metadata": {},
   "outputs": [
    {
     "data": {
      "text/plain": [
       "'kirmal'"
      ]
     },
     "execution_count": 72,
     "metadata": {},
     "output_type": "execute_result"
    }
   ],
   "source": [
    "s"
   ]
  },
  {
   "cell_type": "code",
   "execution_count": 75,
   "id": "617b5c17-4a43-4ff4-8de0-27716bad930d",
   "metadata": {},
   "outputs": [],
   "source": [
    "t=('nirmal',1,2,3,9.99,8+9j,True,[6,7,8,4])"
   ]
  },
  {
   "cell_type": "code",
   "execution_count": 74,
   "id": "d1797957-a70b-4c1a-9dd0-34764ba1e83f",
   "metadata": {},
   "outputs": [
    {
     "data": {
      "text/plain": [
       "('nirmal', 1, 2, 3, 9.99, (8+9j), True)"
      ]
     },
     "execution_count": 74,
     "metadata": {},
     "output_type": "execute_result"
    }
   ],
   "source": [
    "t"
   ]
  },
  {
   "cell_type": "code",
   "execution_count": 76,
   "id": "49865efa-ed8e-4604-bfa5-d6dd15b93258",
   "metadata": {},
   "outputs": [
    {
     "data": {
      "text/plain": [
       "('nirmal', 1, 2, 3, 9.99, (8+9j), True, [6, 7, 8, 4])"
      ]
     },
     "execution_count": 76,
     "metadata": {},
     "output_type": "execute_result"
    }
   ],
   "source": [
    "t"
   ]
  },
  {
   "cell_type": "code",
   "execution_count": 77,
   "id": "784610b9-1cce-4da0-9e50-e8a187a423d6",
   "metadata": {},
   "outputs": [
    {
     "data": {
      "text/plain": [
       "8"
      ]
     },
     "execution_count": 77,
     "metadata": {},
     "output_type": "execute_result"
    }
   ],
   "source": [
    "len(t)"
   ]
  },
  {
   "cell_type": "code",
   "execution_count": 78,
   "id": "a33bfbda-4fd2-47c0-a123-5f9c2684ae47",
   "metadata": {},
   "outputs": [
    {
     "data": {
      "text/plain": [
       "[6, 7, 8, 4]"
      ]
     },
     "execution_count": 78,
     "metadata": {},
     "output_type": "execute_result"
    }
   ],
   "source": [
    "t[7]"
   ]
  },
  {
   "cell_type": "code",
   "execution_count": 79,
   "id": "93b9bb3b-ad93-4706-939c-fa11c4eaff8e",
   "metadata": {},
   "outputs": [
    {
     "data": {
      "text/plain": [
       "('nirmal', 1, 2)"
      ]
     },
     "execution_count": 79,
     "metadata": {},
     "output_type": "execute_result"
    }
   ],
   "source": [
    "t[0:3]"
   ]
  },
  {
   "cell_type": "code",
   "execution_count": 80,
   "id": "f800067d-f393-4067-a2b7-55119e2ec61b",
   "metadata": {},
   "outputs": [
    {
     "data": {
      "text/plain": [
       "('nirmal', 1)"
      ]
     },
     "execution_count": 80,
     "metadata": {},
     "output_type": "execute_result"
    }
   ],
   "source": [
    "t[0:2]"
   ]
  },
  {
   "cell_type": "code",
   "execution_count": 81,
   "id": "c0c4dad5-cd2e-4fa5-a02a-c0297a590015",
   "metadata": {},
   "outputs": [
    {
     "data": {
      "text/plain": [
       "('nirmal', 2, 9.99, True)"
      ]
     },
     "execution_count": 81,
     "metadata": {},
     "output_type": "execute_result"
    }
   ],
   "source": [
    "t[0:7:2]"
   ]
  },
  {
   "cell_type": "code",
   "execution_count": 82,
   "id": "1cb8198f-93a9-4811-8d8e-87611709f516",
   "metadata": {},
   "outputs": [
    {
     "data": {
      "text/plain": [
       "[5, 21, 22, 34, 43, 53, 62]"
      ]
     },
     "execution_count": 82,
     "metadata": {},
     "output_type": "execute_result"
    }
   ],
   "source": [
    "l2"
   ]
  },
  {
   "cell_type": "code",
   "execution_count": 83,
   "id": "e7097111-54a3-4139-aee6-9edcd0232b4d",
   "metadata": {},
   "outputs": [
    {
     "data": {
      "text/plain": [
       "['datascience', 'jai', 'mauryaa', 'nirmal']"
      ]
     },
     "execution_count": 83,
     "metadata": {},
     "output_type": "execute_result"
    }
   ],
   "source": [
    "l3"
   ]
  },
  {
   "cell_type": "code",
   "execution_count": 84,
   "id": "a6805be9-1b3c-4c28-b1d8-3e5ea7e51929",
   "metadata": {},
   "outputs": [],
   "source": [
    "l3[0]=543"
   ]
  },
  {
   "cell_type": "code",
   "execution_count": 85,
   "id": "7264512b-6ebe-4907-87c5-f0de4b27d8ab",
   "metadata": {},
   "outputs": [
    {
     "data": {
      "text/plain": [
       "[543, 'jai', 'mauryaa', 'nirmal']"
      ]
     },
     "execution_count": 85,
     "metadata": {},
     "output_type": "execute_result"
    }
   ],
   "source": [
    "l3"
   ]
  },
  {
   "cell_type": "code",
   "execution_count": 86,
   "id": "eb00727c-1d54-4759-a86e-13f63b59346f",
   "metadata": {},
   "outputs": [
    {
     "data": {
      "text/plain": [
       "('nirmal', 1, 2, 3, 9.99, (8+9j), True, [6, 7, 8, 4])"
      ]
     },
     "execution_count": 86,
     "metadata": {},
     "output_type": "execute_result"
    }
   ],
   "source": [
    "t"
   ]
  },
  {
   "cell_type": "code",
   "execution_count": 88,
   "id": "ff59e6e1-c055-48cd-8187-2f4b2e4b6ab4",
   "metadata": {},
   "outputs": [
    {
     "ename": "AttributeError",
     "evalue": "'tuple' object has no attribute 'replace'",
     "output_type": "error",
     "traceback": [
      "\u001b[0;31m---------------------------------------------------------------------------\u001b[0m",
      "\u001b[0;31mAttributeError\u001b[0m                            Traceback (most recent call last)",
      "Cell \u001b[0;32mIn [88], line 1\u001b[0m\n\u001b[0;32m----> 1\u001b[0m \u001b[43mt\u001b[49m\u001b[38;5;241;43m.\u001b[39;49m\u001b[43mreplace\u001b[49m(\u001b[38;5;124m'\u001b[39m\u001b[38;5;124mnirmal\u001b[39m\u001b[38;5;124m'\u001b[39m,\u001b[38;5;124m'\u001b[39m\u001b[38;5;124mmaurya\u001b[39m\u001b[38;5;124m'\u001b[39m)\n",
      "\u001b[0;31mAttributeError\u001b[0m: 'tuple' object has no attribute 'replace'"
     ]
    }
   ],
   "source": [
    "t.replace('nirmal','maurya')"
   ]
  },
  {
   "cell_type": "code",
   "execution_count": 89,
   "id": "6430957c-4794-4031-8dbf-48ba40c602ce",
   "metadata": {},
   "outputs": [
    {
     "data": {
      "text/plain": [
       "([6, 7, 8, 4], True, (8+9j), 9.99, 3, 2, 1, 'nirmal')"
      ]
     },
     "execution_count": 89,
     "metadata": {},
     "output_type": "execute_result"
    }
   ],
   "source": [
    "t[::-1]"
   ]
  },
  {
   "cell_type": "code",
   "execution_count": 90,
   "id": "2252816b-e3da-44d5-af0c-b5d7eaedc1fa",
   "metadata": {},
   "outputs": [
    {
     "data": {
      "text/plain": [
       "('nirmal', 1, 2, 3, 9.99, (8+9j), True, [6, 7, 8, 4])"
      ]
     },
     "execution_count": 90,
     "metadata": {},
     "output_type": "execute_result"
    }
   ],
   "source": [
    "t"
   ]
  },
  {
   "cell_type": "code",
   "execution_count": 1,
   "id": "49f3dea9-4667-4fbf-bded-80f7d184c71c",
   "metadata": {},
   "outputs": [],
   "source": [
    "t=('nirmal', 1, 2, 3, 9.99, (8+9j), True, [6, 7, 8, 4])"
   ]
  },
  {
   "cell_type": "code",
   "execution_count": 2,
   "id": "13909d59-6a66-4271-869e-bad5772cd2a3",
   "metadata": {},
   "outputs": [
    {
     "data": {
      "text/plain": [
       "tuple"
      ]
     },
     "execution_count": 2,
     "metadata": {},
     "output_type": "execute_result"
    }
   ],
   "source": [
    "type(t)"
   ]
  },
  {
   "cell_type": "code",
   "execution_count": 3,
   "id": "689e108e-fe82-4a57-a54d-765fd05a8c54",
   "metadata": {},
   "outputs": [
    {
     "data": {
      "text/plain": [
       "1"
      ]
     },
     "execution_count": 3,
     "metadata": {},
     "output_type": "execute_result"
    }
   ],
   "source": [
    "t.count('nirmal')"
   ]
  },
  {
   "cell_type": "code",
   "execution_count": 4,
   "id": "bb89375f-5372-4fed-9133-db8fad92ecd3",
   "metadata": {},
   "outputs": [
    {
     "data": {
      "text/plain": [
       "1"
      ]
     },
     "execution_count": 4,
     "metadata": {},
     "output_type": "execute_result"
    }
   ],
   "source": [
    "t.index(True)"
   ]
  },
  {
   "cell_type": "code",
   "execution_count": 5,
   "id": "0c264e6e-53d3-4a19-9ac1-5e7b124387d3",
   "metadata": {},
   "outputs": [
    {
     "data": {
      "text/plain": [
       "('nirmal', 1, 2, 3, 9.99, (8+9j), True, [6, 7, 8, 4])"
      ]
     },
     "execution_count": 5,
     "metadata": {},
     "output_type": "execute_result"
    }
   ],
   "source": [
    "t"
   ]
  },
  {
   "cell_type": "code",
   "execution_count": 5,
   "id": "5c74edeb-0ff7-4af2-ba73-c17c5074f850",
   "metadata": {},
   "outputs": [
    {
     "data": {
      "text/plain": [
       "('nirmal', 1, 2, 3, 9.99, (8+9j), True, [6, 7, 8, 4])"
      ]
     },
     "execution_count": 5,
     "metadata": {},
     "output_type": "execute_result"
    }
   ],
   "source": [
    "t"
   ]
  },
  {
   "cell_type": "code",
   "execution_count": 6,
   "id": "71717f0d-c7da-4c75-940c-ccbe17fd6cb9",
   "metadata": {},
   "outputs": [],
   "source": [
    "s1={}"
   ]
  },
  {
   "cell_type": "code",
   "execution_count": 7,
   "id": "9286caa4-b22d-4d3e-8bdf-f361c9916365",
   "metadata": {},
   "outputs": [
    {
     "data": {
      "text/plain": [
       "dict"
      ]
     },
     "execution_count": 7,
     "metadata": {},
     "output_type": "execute_result"
    }
   ],
   "source": [
    "type(s1)"
   ]
  },
  {
   "cell_type": "code",
   "execution_count": 8,
   "id": "73f14910-019a-4cbd-b3ac-9af2e1286133",
   "metadata": {},
   "outputs": [],
   "source": [
    "s2={2,3,4,5,7}"
   ]
  },
  {
   "cell_type": "code",
   "execution_count": 9,
   "id": "0d62d2a4-a526-427f-abba-7ce3088f66f0",
   "metadata": {},
   "outputs": [
    {
     "data": {
      "text/plain": [
       "set"
      ]
     },
     "execution_count": 9,
     "metadata": {},
     "output_type": "execute_result"
    }
   ],
   "source": [
    "type(s2)"
   ]
  },
  {
   "cell_type": "code",
   "execution_count": 13,
   "id": "aaa03933-b3a6-480d-99f5-c0baeeb4c443",
   "metadata": {},
   "outputs": [],
   "source": [
    "s3={('nirmal', 1, 2, 3, 9.99), (8+9j), True, }"
   ]
  },
  {
   "cell_type": "code",
   "execution_count": 15,
   "id": "b0370844-91e5-46c8-b29e-c5cb017b88b0",
   "metadata": {},
   "outputs": [
    {
     "data": {
      "text/plain": [
       "{1, 2, 3, 4, 6, 55}"
      ]
     },
     "execution_count": 15,
     "metadata": {},
     "output_type": "execute_result"
    }
   ],
   "source": [
    "s4"
   ]
  },
  {
   "cell_type": "code",
   "execution_count": 2,
   "id": "2157fcef-5316-4db6-a374-3ad9151ae741",
   "metadata": {},
   "outputs": [
    {
     "data": {
      "text/plain": [
       "('nirmal', 1, 2, 3, 9.99, (8+9j), True, [6, 7, 8, 4])"
      ]
     },
     "execution_count": 2,
     "metadata": {},
     "output_type": "execute_result"
    }
   ],
   "source": [
    "t"
   ]
  },
  {
   "cell_type": "code",
   "execution_count": 7,
   "id": "0e67d6d9-cc54-4462-b367-39f43c998807",
   "metadata": {},
   "outputs": [],
   "source": [
    "s4={1,1,1,2,2,2,3,3,4,4,4,55,4,3,6,6,2,1}"
   ]
  },
  {
   "cell_type": "code",
   "execution_count": 3,
   "id": "b717b59a-4aa1-462f-b4e9-797893102670",
   "metadata": {},
   "outputs": [
    {
     "data": {
      "text/plain": [
       "tuple"
      ]
     },
     "execution_count": 3,
     "metadata": {},
     "output_type": "execute_result"
    }
   ],
   "source": [
    "type(t)"
   ]
  },
  {
   "cell_type": "code",
   "execution_count": 4,
   "id": "94a7541d-c9ea-498a-b3fc-9aac70a3be01",
   "metadata": {},
   "outputs": [],
   "source": [
    "s1={}"
   ]
  },
  {
   "cell_type": "code",
   "execution_count": 6,
   "id": "8956f5b7-a90f-40cf-bc12-450a261e415b",
   "metadata": {},
   "outputs": [
    {
     "data": {
      "text/plain": [
       "dict"
      ]
     },
     "execution_count": 6,
     "metadata": {},
     "output_type": "execute_result"
    }
   ],
   "source": [
    "type(s1)"
   ]
  },
  {
   "cell_type": "code",
   "execution_count": 8,
   "id": "6962f49b-6d66-4330-9e58-ed6b34b6970b",
   "metadata": {},
   "outputs": [],
   "source": [
    "s4={1,1,1,2,2,2,3,3,4,4,4,55,4,3,6,6,2,1}"
   ]
  },
  {
   "cell_type": "code",
   "execution_count": 10,
   "id": "807264fc-6b4e-4d99-83d2-36924c4926d5",
   "metadata": {},
   "outputs": [
    {
     "data": {
      "text/plain": [
       "set"
      ]
     },
     "execution_count": 10,
     "metadata": {},
     "output_type": "execute_result"
    }
   ],
   "source": [
    "type(s4)"
   ]
  },
  {
   "cell_type": "code",
   "execution_count": 11,
   "id": "5e655850-d634-4f7e-9314-7ff0c933a96e",
   "metadata": {},
   "outputs": [
    {
     "data": {
      "text/plain": [
       "{1, 2, 3, 4, 6, 55}"
      ]
     },
     "execution_count": 11,
     "metadata": {},
     "output_type": "execute_result"
    }
   ],
   "source": [
    "s4"
   ]
  },
  {
   "cell_type": "code",
   "execution_count": 12,
   "id": "2f4a6cd0-2711-4aa9-8333-43775349a01f",
   "metadata": {},
   "outputs": [],
   "source": [
    "s1={123,123,456,457,'niraml',55}"
   ]
  },
  {
   "cell_type": "code",
   "execution_count": 12,
   "id": "2f4c4d26-2324-461f-be75-a201d4956b03",
   "metadata": {},
   "outputs": [],
   "source": [
    "s1={123,123,456,457,'niraml',55}"
   ]
  },
  {
   "cell_type": "code",
   "execution_count": 13,
   "id": "400de158-7c25-40d5-9acf-3c44e43a9cde",
   "metadata": {},
   "outputs": [
    {
     "data": {
      "text/plain": [
       "{123, 456, 457, 55, 'niraml'}"
      ]
     },
     "execution_count": 13,
     "metadata": {},
     "output_type": "execute_result"
    }
   ],
   "source": [
    "s1"
   ]
  },
  {
   "cell_type": "code",
   "execution_count": 14,
   "id": "b0823588-da62-4a4b-b7b8-d5ef91fa9225",
   "metadata": {},
   "outputs": [],
   "source": [
    "s1.add(88)"
   ]
  },
  {
   "cell_type": "code",
   "execution_count": 15,
   "id": "390909eb-231e-4a21-a71b-98c659094d9c",
   "metadata": {},
   "outputs": [
    {
     "data": {
      "text/plain": [
       "{123, 456, 457, 55, 88, 'niraml'}"
      ]
     },
     "execution_count": 15,
     "metadata": {},
     "output_type": "execute_result"
    }
   ],
   "source": [
    "s1"
   ]
  },
  {
   "cell_type": "code",
   "execution_count": 16,
   "id": "e3d13371-c614-4a39-b8fc-c6b2b35392cf",
   "metadata": {},
   "outputs": [],
   "source": [
    "s1.add('maurya')"
   ]
  },
  {
   "cell_type": "code",
   "execution_count": 17,
   "id": "8c06ad87-22e0-4629-a335-3634df8e5fb7",
   "metadata": {},
   "outputs": [
    {
     "data": {
      "text/plain": [
       "{123, 456, 457, 55, 88, 'maurya', 'niraml'}"
      ]
     },
     "execution_count": 17,
     "metadata": {},
     "output_type": "execute_result"
    }
   ],
   "source": [
    "s1"
   ]
  },
  {
   "cell_type": "code",
   "execution_count": 20,
   "id": "72a23baa-b52e-427c-9238-66c00e1738aa",
   "metadata": {},
   "outputs": [],
   "source": [
    "s1.add(1)"
   ]
  },
  {
   "cell_type": "code",
   "execution_count": 21,
   "id": "436747a9-95d3-4fcd-8469-1c3c815ed4a3",
   "metadata": {},
   "outputs": [
    {
     "data": {
      "text/plain": [
       "{1, 123, 456, 457, 55, 88, 'maurya', 'niraml'}"
      ]
     },
     "execution_count": 21,
     "metadata": {},
     "output_type": "execute_result"
    }
   ],
   "source": [
    "s1"
   ]
  },
  {
   "cell_type": "code",
   "execution_count": 22,
   "id": "4829ea01-8266-443f-9053-78b2d4cc199f",
   "metadata": {},
   "outputs": [],
   "source": [
    "s1.remove(88)"
   ]
  },
  {
   "cell_type": "code",
   "execution_count": 23,
   "id": "837361ec-d7ed-457e-b236-c20b5049dfde",
   "metadata": {},
   "outputs": [
    {
     "data": {
      "text/plain": [
       "{1, 123, 456, 457, 55, 'maurya', 'niraml'}"
      ]
     },
     "execution_count": 23,
     "metadata": {},
     "output_type": "execute_result"
    }
   ],
   "source": [
    "s1"
   ]
  },
  {
   "cell_type": "code",
   "execution_count": 24,
   "id": "c8b2e193-9bc0-4c3c-a9d2-e1933c97c55b",
   "metadata": {},
   "outputs": [],
   "source": [
    "d={}"
   ]
  },
  {
   "cell_type": "code",
   "execution_count": 25,
   "id": "f1d71e3e-1fca-464a-9c8e-37b17ab471c7",
   "metadata": {},
   "outputs": [
    {
     "data": {
      "text/plain": [
       "dict"
      ]
     },
     "execution_count": 25,
     "metadata": {},
     "output_type": "execute_result"
    }
   ],
   "source": [
    "type(d)"
   ]
  },
  {
   "cell_type": "code",
   "execution_count": 26,
   "id": "59ec1159-1eca-4ed8-9ce8-e13f8d7501a7",
   "metadata": {},
   "outputs": [],
   "source": [
    "d1={'key':\"nirmal\"}"
   ]
  },
  {
   "cell_type": "code",
   "execution_count": 27,
   "id": "a02e2a74-0836-4d53-9fb3-80430af419ee",
   "metadata": {},
   "outputs": [
    {
     "data": {
      "text/plain": [
       "dict"
      ]
     },
     "execution_count": 27,
     "metadata": {},
     "output_type": "execute_result"
    }
   ],
   "source": [
    "type(d1)"
   ]
  },
  {
   "cell_type": "code",
   "execution_count": 29,
   "id": "83c409e1-1a8b-4acb-a1d4-ed54e12948b2",
   "metadata": {},
   "outputs": [],
   "source": [
    "d2={'name':'nirmal','mail':'mauryaanirmal654@gmail.com','number': 6488216694}"
   ]
  },
  {
   "cell_type": "code",
   "execution_count": 30,
   "id": "cb06a635-6ea1-45b0-a717-6fd3a33b48cc",
   "metadata": {},
   "outputs": [
    {
     "data": {
      "text/plain": [
       "{'name': 'nirmal', 'mail': 'mauryaanirmal654@gmail.com', 'number': 6488216694}"
      ]
     },
     "execution_count": 30,
     "metadata": {},
     "output_type": "execute_result"
    }
   ],
   "source": [
    "d2"
   ]
  },
  {
   "cell_type": "code",
   "execution_count": 32,
   "id": "5500ea39-a5e8-4706-9e4b-efe34c02026c",
   "metadata": {},
   "outputs": [
    {
     "data": {
      "text/plain": [
       "'nirmal'"
      ]
     },
     "execution_count": 32,
     "metadata": {},
     "output_type": "execute_result"
    }
   ],
   "source": [
    "d2['name']"
   ]
  },
  {
   "cell_type": "code",
   "execution_count": 34,
   "id": "f15303c0-fded-4879-8d3d-71f65d684935",
   "metadata": {},
   "outputs": [],
   "source": [
    "d3={'name':'nirmal','name':'maurya'}"
   ]
  },
  {
   "cell_type": "code",
   "execution_count": 38,
   "id": "ee1d2fbb-dbe6-4caa-b644-6a50ac9bbd64",
   "metadata": {},
   "outputs": [
    {
     "data": {
      "text/plain": [
       "'maurya'"
      ]
     },
     "execution_count": 38,
     "metadata": {},
     "output_type": "execute_result"
    }
   ],
   "source": [
    "d3['name']"
   ]
  },
  {
   "cell_type": "code",
   "execution_count": 39,
   "id": "f84047ac-07b1-4722-ac5c-f9bd9fc1215f",
   "metadata": {},
   "outputs": [],
   "source": [
    "d4={'compny':'pwskills','course':['java','c++','python']}"
   ]
  },
  {
   "cell_type": "code",
   "execution_count": 40,
   "id": "cb52ba0d-d301-4a38-84bf-63c731e8f8df",
   "metadata": {},
   "outputs": [
    {
     "data": {
      "text/plain": [
       "['java', 'c++', 'python']"
      ]
     },
     "execution_count": 40,
     "metadata": {},
     "output_type": "execute_result"
    }
   ],
   "source": [
    "d4['course']"
   ]
  },
  {
   "cell_type": "code",
   "execution_count": 42,
   "id": "9dde82dc-d619-4890-9fc1-f94f7307eefa",
   "metadata": {},
   "outputs": [
    {
     "data": {
      "text/plain": [
       "'c++'"
      ]
     },
     "execution_count": 42,
     "metadata": {},
     "output_type": "execute_result"
    }
   ],
   "source": [
    "d4['course' ][1]"
   ]
  },
  {
   "cell_type": "code",
   "execution_count": 43,
   "id": "72c8c0ba-91b0-48e2-a552-9ba2ebf9136f",
   "metadata": {},
   "outputs": [
    {
     "data": {
      "text/plain": [
       "{'compny': 'pwskills', 'course': ['java', 'c++', 'python']}"
      ]
     },
     "execution_count": 43,
     "metadata": {},
     "output_type": "execute_result"
    }
   ],
   "source": [
    "d4"
   ]
  },
  {
   "cell_type": "code",
   "execution_count": 45,
   "id": "6fab63e2-f9e6-40c1-b110-045b96d39319",
   "metadata": {},
   "outputs": [],
   "source": [
    "del d4['compny']"
   ]
  },
  {
   "cell_type": "code",
   "execution_count": 46,
   "id": "69a74561-9d74-4e87-9911-69b257740d07",
   "metadata": {},
   "outputs": [
    {
     "data": {
      "text/plain": [
       "{'course': ['java', 'c++', 'python']}"
      ]
     },
     "execution_count": 46,
     "metadata": {},
     "output_type": "execute_result"
    }
   ],
   "source": [
    "d4"
   ]
  },
  {
   "cell_type": "code",
   "execution_count": 47,
   "id": "51c3e644-63c9-46df-b68c-69d7e17a38c8",
   "metadata": {},
   "outputs": [
    {
     "data": {
      "text/plain": [
       "dict_items([('course', ['java', 'c++', 'python'])])"
      ]
     },
     "execution_count": 47,
     "metadata": {},
     "output_type": "execute_result"
    }
   ],
   "source": [
    "d4.items()"
   ]
  },
  {
   "cell_type": "code",
   "execution_count": 48,
   "id": "5d369644-0490-427f-9d7a-0efc55de38aa",
   "metadata": {},
   "outputs": [
    {
     "data": {
      "text/plain": [
       "[('course', ['java', 'c++', 'python'])]"
      ]
     },
     "execution_count": 48,
     "metadata": {},
     "output_type": "execute_result"
    }
   ],
   "source": [
    "list(d4.items())"
   ]
  },
  {
   "cell_type": "code",
   "execution_count": 49,
   "id": "490d80a6-bac2-4ffb-824c-7423cd03b296",
   "metadata": {},
   "outputs": [
    {
     "data": {
      "text/plain": [
       "['java', 'c++', 'python']"
      ]
     },
     "execution_count": 49,
     "metadata": {},
     "output_type": "execute_result"
    }
   ],
   "source": [
    "d4.pop('course')"
   ]
  },
  {
   "cell_type": "code",
   "execution_count": 50,
   "id": "5c953ca6-18da-4975-8a92-f94701dcfdcb",
   "metadata": {},
   "outputs": [
    {
     "data": {
      "text/plain": [
       "{}"
      ]
     },
     "execution_count": 50,
     "metadata": {},
     "output_type": "execute_result"
    }
   ],
   "source": [
    "d4"
   ]
  },
  {
   "cell_type": "code",
   "execution_count": 4,
   "id": "27520d86-932a-4690-bbe8-8395f2732f64",
   "metadata": {},
   "outputs": [],
   "source": [
    "l=[1,2,3,4,555,34.44,'nirmal',9+6j,True]"
   ]
  },
  {
   "cell_type": "code",
   "execution_count": 6,
   "id": "277e2910-25f4-4c36-921e-0ea1556ca897",
   "metadata": {},
   "outputs": [
    {
     "data": {
      "text/plain": [
       "1"
      ]
     },
     "execution_count": 6,
     "metadata": {},
     "output_type": "execute_result"
    }
   ],
   "source": [
    "l[0]"
   ]
  },
  {
   "cell_type": "code",
   "execution_count": 7,
   "id": "905ae026-2f71-4c4c-a215-811ac304945c",
   "metadata": {},
   "outputs": [
    {
     "data": {
      "text/plain": [
       "34.44"
      ]
     },
     "execution_count": 7,
     "metadata": {},
     "output_type": "execute_result"
    }
   ],
   "source": [
    "l[5]"
   ]
  },
  {
   "cell_type": "code",
   "execution_count": 8,
   "id": "825a2ca3-078b-4dcb-ad29-03248c830186",
   "metadata": {},
   "outputs": [],
   "source": [
    "l=(1,2,3,4,555,34.44,'nirmal',9+6j,True)"
   ]
  },
  {
   "cell_type": "code",
   "execution_count": 9,
   "id": "f21d63bc-4b65-4144-9875-4641a5e161b4",
   "metadata": {},
   "outputs": [
    {
     "data": {
      "text/plain": [
       "tuple"
      ]
     },
     "execution_count": 9,
     "metadata": {},
     "output_type": "execute_result"
    }
   ],
   "source": [
    "type(l)"
   ]
  },
  {
   "cell_type": "code",
   "execution_count": 10,
   "id": "77b00dcd-5b34-4e75-a63f-61eb50740f7a",
   "metadata": {},
   "outputs": [],
   "source": [
    "l=[1,2,3,4,555,34.44,'nirmal',9+6j,True]"
   ]
  },
  {
   "cell_type": "code",
   "execution_count": 11,
   "id": "6947703d-7268-4d30-8c5c-b84c48a8d8ac",
   "metadata": {},
   "outputs": [],
   "source": [
    "s=('nirmal','maurya','jaya')"
   ]
  },
  {
   "cell_type": "code",
   "execution_count": 12,
   "id": "fe33ecf5-ecf3-4a7d-8c30-bc9e4dc5690a",
   "metadata": {},
   "outputs": [
    {
     "data": {
      "text/plain": [
       "tuple"
      ]
     },
     "execution_count": 12,
     "metadata": {},
     "output_type": "execute_result"
    }
   ],
   "source": [
    "type(s)"
   ]
  },
  {
   "cell_type": "code",
   "execution_count": 13,
   "id": "6dc369b3-1c4d-4748-ba0b-3bbc3115bb67",
   "metadata": {},
   "outputs": [
    {
     "data": {
      "text/plain": [
       "[1, 2, 3, 4, 555, 34.44, 'nirmal', (9+6j), True]"
      ]
     },
     "execution_count": 13,
     "metadata": {},
     "output_type": "execute_result"
    }
   ],
   "source": [
    "l"
   ]
  },
  {
   "cell_type": "code",
   "execution_count": 14,
   "id": "49fe4dd7-2e52-4448-82ef-32a291847383",
   "metadata": {},
   "outputs": [
    {
     "data": {
      "text/plain": [
       "[1, 2]"
      ]
     },
     "execution_count": 14,
     "metadata": {},
     "output_type": "execute_result"
    }
   ],
   "source": [
    "l[0:2]"
   ]
  },
  {
   "cell_type": "code",
   "execution_count": 15,
   "id": "811ebeb4-5330-4089-9f22-59f363ea0cad",
   "metadata": {},
   "outputs": [
    {
     "data": {
      "text/plain": [
       "[1, 3, 555, 'nirmal', True]"
      ]
     },
     "execution_count": 15,
     "metadata": {},
     "output_type": "execute_result"
    }
   ],
   "source": [
    "l[::2]"
   ]
  },
  {
   "cell_type": "code",
   "execution_count": 16,
   "id": "e9989747-e338-4afa-9aef-f4e751741b71",
   "metadata": {},
   "outputs": [
    {
     "data": {
      "text/plain": [
       "[3, 555, 'nirmal', True]"
      ]
     },
     "execution_count": 16,
     "metadata": {},
     "output_type": "execute_result"
    }
   ],
   "source": [
    "l[2::2]"
   ]
  },
  {
   "cell_type": "code",
   "execution_count": 17,
   "id": "6ca1df83-dc0a-414b-811f-dfc15ff4bdb2",
   "metadata": {},
   "outputs": [],
   "source": [
    "s=\"nirmalmaurya\""
   ]
  },
  {
   "cell_type": "code",
   "execution_count": 19,
   "id": "aed5bdf6-61db-4416-816d-a44477929b94",
   "metadata": {},
   "outputs": [
    {
     "data": {
      "text/plain": [
       "list['nirmalmaurya']"
      ]
     },
     "execution_count": 19,
     "metadata": {},
     "output_type": "execute_result"
    }
   ],
   "source": [
    "list[s]"
   ]
  },
  {
   "cell_type": "code",
   "execution_count": 21,
   "id": "11570dc7-fbd1-4eb0-a815-2e72706f7a08",
   "metadata": {},
   "outputs": [
    {
     "data": {
      "text/plain": [
       "['n', 'i', 'r', 'm', 'a', 'l', 'm', 'a', 'u', 'r', 'y', 'a']"
      ]
     },
     "execution_count": 21,
     "metadata": {},
     "output_type": "execute_result"
    }
   ],
   "source": [
    "list(s)"
   ]
  },
  {
   "cell_type": "code",
   "execution_count": 22,
   "id": "5ad6e1e3-fda6-4937-a46a-d2b194a0b374",
   "metadata": {},
   "outputs": [
    {
     "data": {
      "text/plain": [
       "[1, 2, 3, 4, 555, 34.44, 'nirmal', (9+6j), True]"
      ]
     },
     "execution_count": 22,
     "metadata": {},
     "output_type": "execute_result"
    }
   ],
   "source": [
    "l"
   ]
  },
  {
   "cell_type": "code",
   "execution_count": 24,
   "id": "66d8c899-e7fc-44be-b690-5babde75ddd6",
   "metadata": {},
   "outputs": [
    {
     "data": {
      "text/plain": [
       "'nirmal'"
      ]
     },
     "execution_count": 24,
     "metadata": {},
     "output_type": "execute_result"
    }
   ],
   "source": [
    "l[6]"
   ]
  },
  {
   "cell_type": "code",
   "execution_count": 25,
   "id": "57bcaf0f-913a-457b-8225-3a15fc3cfdad",
   "metadata": {},
   "outputs": [
    {
     "data": {
      "text/plain": [
       "'l'"
      ]
     },
     "execution_count": 25,
     "metadata": {},
     "output_type": "execute_result"
    }
   ],
   "source": [
    "l[6][-1]"
   ]
  },
  {
   "cell_type": "code",
   "execution_count": 27,
   "id": "48d404b7-0fe5-41b2-bedf-99ac54957928",
   "metadata": {},
   "outputs": [
    {
     "data": {
      "text/plain": [
       "6"
      ]
     },
     "execution_count": 27,
     "metadata": {},
     "output_type": "execute_result"
    }
   ],
   "source": [
    "l[-1]+5"
   ]
  },
  {
   "cell_type": "code",
   "execution_count": 28,
   "id": "80369e86-bd39-4ade-95f9-8d6e9310ab2c",
   "metadata": {},
   "outputs": [
    {
     "data": {
      "text/plain": [
       "599"
      ]
     },
     "execution_count": 28,
     "metadata": {},
     "output_type": "execute_result"
    }
   ],
   "source": [
    "l[4]+44"
   ]
  },
  {
   "cell_type": "code",
   "execution_count": 29,
   "id": "17a9c1a0-3820-4c6c-8c53-12e52aeace42",
   "metadata": {},
   "outputs": [],
   "source": [
    "l1=[66,7,88,909]"
   ]
  },
  {
   "cell_type": "code",
   "execution_count": 30,
   "id": "95bee8df-bf3d-4b3a-a79c-39dd04685a6a",
   "metadata": {},
   "outputs": [
    {
     "data": {
      "text/plain": [
       "[1, 2, 3, 4, 555, 34.44, 'nirmal', (9+6j), True, 66, 7, 88, 909]"
      ]
     },
     "execution_count": 30,
     "metadata": {},
     "output_type": "execute_result"
    }
   ],
   "source": [
    "l+l1"
   ]
  },
  {
   "cell_type": "code",
   "execution_count": 31,
   "id": "59d62d1c-775d-4fd9-ba90-43ec98fe1dbb",
   "metadata": {},
   "outputs": [
    {
     "data": {
      "text/plain": [
       "[66, 7, 88, 909, 66, 7, 88, 909]"
      ]
     },
     "execution_count": 31,
     "metadata": {},
     "output_type": "execute_result"
    }
   ],
   "source": [
    "l1*2"
   ]
  },
  {
   "cell_type": "code",
   "execution_count": 32,
   "id": "83ab3faf-8081-4336-a9db-ad53ccac9512",
   "metadata": {},
   "outputs": [
    {
     "data": {
      "text/plain": [
       "'nirmalmauryanirmalmaurya'"
      ]
     },
     "execution_count": 32,
     "metadata": {},
     "output_type": "execute_result"
    }
   ],
   "source": [
    "s*2"
   ]
  },
  {
   "cell_type": "code",
   "execution_count": 34,
   "id": "3c8c405f-cb72-4f6e-a77f-66b26cdd69f6",
   "metadata": {},
   "outputs": [
    {
     "data": {
      "text/plain": [
       "'nirmalmaurya'"
      ]
     },
     "execution_count": 34,
     "metadata": {},
     "output_type": "execute_result"
    }
   ],
   "source": [
    "s"
   ]
  },
  {
   "cell_type": "code",
   "execution_count": 36,
   "id": "163f5ecf-af83-448c-bea8-d56ab615a2ec",
   "metadata": {},
   "outputs": [
    {
     "data": {
      "text/plain": [
       "12"
      ]
     },
     "execution_count": 36,
     "metadata": {},
     "output_type": "execute_result"
    }
   ],
   "source": [
    "len(s)"
   ]
  },
  {
   "cell_type": "code",
   "execution_count": 37,
   "id": "705ae7e0-6b91-4a02-8777-24516633310b",
   "metadata": {},
   "outputs": [
    {
     "data": {
      "text/plain": [
       "9"
      ]
     },
     "execution_count": 37,
     "metadata": {},
     "output_type": "execute_result"
    }
   ],
   "source": [
    "len(l)"
   ]
  },
  {
   "cell_type": "code",
   "execution_count": 38,
   "id": "b1750b3e-436b-490c-9b04-f148bf3e1e4f",
   "metadata": {},
   "outputs": [],
   "source": [
    "l.append(100)"
   ]
  },
  {
   "cell_type": "code",
   "execution_count": 39,
   "id": "2b948884-89c2-4c15-a985-5f1d428f67d7",
   "metadata": {},
   "outputs": [
    {
     "data": {
      "text/plain": [
       "[1, 2, 3, 4, 555, 34.44, 'nirmal', (9+6j), True, 100]"
      ]
     },
     "execution_count": 39,
     "metadata": {},
     "output_type": "execute_result"
    }
   ],
   "source": [
    "l"
   ]
  },
  {
   "cell_type": "code",
   "execution_count": 42,
   "id": "eac1ce67-75d0-4b11-8e95-35be604f4ff3",
   "metadata": {},
   "outputs": [],
   "source": [
    "l.append(l1)"
   ]
  },
  {
   "cell_type": "code",
   "execution_count": 43,
   "id": "7c8053ba-e537-4c13-892b-534e16661cd5",
   "metadata": {},
   "outputs": [
    {
     "data": {
      "text/plain": [
       "[1, 2, 3, 4, 555, 34.44, 'nirmal', (9+6j), True, 100, [66, 7, 88, 909]]"
      ]
     },
     "execution_count": 43,
     "metadata": {},
     "output_type": "execute_result"
    }
   ],
   "source": [
    "l"
   ]
  },
  {
   "cell_type": "code",
   "execution_count": 44,
   "id": "642f9912-5b39-4663-8635-610658151b5d",
   "metadata": {},
   "outputs": [],
   "source": [
    "l.extend(\"pwskillla\")"
   ]
  },
  {
   "cell_type": "code",
   "execution_count": 45,
   "id": "4537a967-0cb8-493d-b27a-ee28a3ef59ce",
   "metadata": {},
   "outputs": [
    {
     "data": {
      "text/plain": [
       "[1,\n",
       " 2,\n",
       " 3,\n",
       " 4,\n",
       " 555,\n",
       " 34.44,\n",
       " 'nirmal',\n",
       " (9+6j),\n",
       " True,\n",
       " 100,\n",
       " [66, 7, 88, 909],\n",
       " 'p',\n",
       " 'w',\n",
       " 's',\n",
       " 'k',\n",
       " 'i',\n",
       " 'l',\n",
       " 'l',\n",
       " 'l',\n",
       " 'a']"
      ]
     },
     "execution_count": 45,
     "metadata": {},
     "output_type": "execute_result"
    }
   ],
   "source": [
    "l"
   ]
  },
  {
   "cell_type": "code",
   "execution_count": 46,
   "id": "16f1a1f3-dd1d-4eed-9d2a-bd31706c397e",
   "metadata": {},
   "outputs": [],
   "source": [
    "l.extend([57 ,65])"
   ]
  },
  {
   "cell_type": "code",
   "execution_count": 47,
   "id": "90b0f47e-c93b-42b7-a697-47e80578df11",
   "metadata": {},
   "outputs": [
    {
     "data": {
      "text/plain": [
       "[1,\n",
       " 2,\n",
       " 3,\n",
       " 4,\n",
       " 555,\n",
       " 34.44,\n",
       " 'nirmal',\n",
       " (9+6j),\n",
       " True,\n",
       " 100,\n",
       " [66, 7, 88, 909],\n",
       " 'p',\n",
       " 'w',\n",
       " 's',\n",
       " 'k',\n",
       " 'i',\n",
       " 'l',\n",
       " 'l',\n",
       " 'l',\n",
       " 'a',\n",
       " 57,\n",
       " 65]"
      ]
     },
     "execution_count": 47,
     "metadata": {},
     "output_type": "execute_result"
    }
   ],
   "source": [
    "l"
   ]
  },
  {
   "cell_type": "code",
   "execution_count": 48,
   "id": "a77c8d6e-72e6-4f3a-a047-f13d2bb922fa",
   "metadata": {},
   "outputs": [],
   "source": [
    "l1.insert(2,\"jaya\")"
   ]
  },
  {
   "cell_type": "code",
   "execution_count": 49,
   "id": "c8090b60-ac7a-40dc-bf4b-e31140847386",
   "metadata": {},
   "outputs": [
    {
     "data": {
      "text/plain": [
       "[66, 7, 'jaya', 88, 909]"
      ]
     },
     "execution_count": 49,
     "metadata": {},
     "output_type": "execute_result"
    }
   ],
   "source": [
    "l1"
   ]
  },
  {
   "cell_type": "code",
   "execution_count": 51,
   "id": "8c49c5b1-4766-41f0-9ed0-093db3620286",
   "metadata": {},
   "outputs": [],
   "source": [
    "l1.insert(2,[1,2,3,4])"
   ]
  },
  {
   "cell_type": "code",
   "execution_count": 52,
   "id": "455a8b8a-af95-47db-aaa4-82dd1106b29a",
   "metadata": {},
   "outputs": [
    {
     "data": {
      "text/plain": [
       "[66, 7, [1, 2, 3, 4], 'jaya', 88, 909]"
      ]
     },
     "execution_count": 52,
     "metadata": {},
     "output_type": "execute_result"
    }
   ],
   "source": [
    "l1"
   ]
  },
  {
   "cell_type": "code",
   "execution_count": 53,
   "id": "f6a218dc-213a-4cf4-9849-e07dca400192",
   "metadata": {},
   "outputs": [
    {
     "data": {
      "text/plain": [
       "909"
      ]
     },
     "execution_count": 53,
     "metadata": {},
     "output_type": "execute_result"
    }
   ],
   "source": [
    "l1.pop()"
   ]
  },
  {
   "cell_type": "code",
   "execution_count": 55,
   "id": "77430e8d-098c-4558-9c27-b75801b5b832",
   "metadata": {},
   "outputs": [
    {
     "data": {
      "text/plain": [
       "7"
      ]
     },
     "execution_count": 55,
     "metadata": {},
     "output_type": "execute_result"
    }
   ],
   "source": [
    "l1.pop(1)"
   ]
  },
  {
   "cell_type": "code",
   "execution_count": 56,
   "id": "7893ba2f-10ba-4fcc-af42-45a955203674",
   "metadata": {},
   "outputs": [],
   "source": [
    "l1.remove(66)"
   ]
  },
  {
   "cell_type": "code",
   "execution_count": 57,
   "id": "4288fb61-0d1c-4e2d-8877-9a2712d0d7e6",
   "metadata": {},
   "outputs": [
    {
     "data": {
      "text/plain": [
       "[[1, 2, 3, 4], 'jaya', 88]"
      ]
     },
     "execution_count": 57,
     "metadata": {},
     "output_type": "execute_result"
    }
   ],
   "source": [
    "l1"
   ]
  },
  {
   "cell_type": "code",
   "execution_count": 62,
   "id": "68a6ea04-34b7-4a93-a97a-e6586194b388",
   "metadata": {},
   "outputs": [
    {
     "ename": "ValueError",
     "evalue": "list.remove(x): x not in list",
     "output_type": "error",
     "traceback": [
      "\u001b[0;31m---------------------------------------------------------------------------\u001b[0m",
      "\u001b[0;31mValueError\u001b[0m                                Traceback (most recent call last)",
      "Cell \u001b[0;32mIn [62], line 1\u001b[0m\n\u001b[0;32m----> 1\u001b[0m \u001b[43ml1\u001b[49m\u001b[43m[\u001b[49m\u001b[38;5;241;43m0\u001b[39;49m\u001b[43m]\u001b[49m\u001b[38;5;241;43m.\u001b[39;49m\u001b[43mremove\u001b[49m\u001b[43m(\u001b[49m\u001b[38;5;241;43m3\u001b[39;49m\u001b[43m)\u001b[49m\n",
      "\u001b[0;31mValueError\u001b[0m: list.remove(x): x not in list"
     ]
    }
   ],
   "source": [
    "l1[0].remove(3)"
   ]
  },
  {
   "cell_type": "code",
   "execution_count": 1,
   "id": "0ccde281-a347-4b81-944a-ff264b31df3b",
   "metadata": {},
   "outputs": [],
   "source": [
    "d={}"
   ]
  },
  {
   "cell_type": "code",
   "execution_count": 2,
   "id": "17333d43-e2dc-42b8-9712-df984752f72c",
   "metadata": {},
   "outputs": [
    {
     "data": {
      "text/plain": [
       "dict"
      ]
     },
     "execution_count": 2,
     "metadata": {},
     "output_type": "execute_result"
    }
   ],
   "source": [
    "type(d)"
   ]
  },
  {
   "cell_type": "code",
   "execution_count": 5,
   "id": "2bca5075-12dc-4a7f-943d-3f86b72a1161",
   "metadata": {},
   "outputs": [],
   "source": [
    "d={'k1':\"nirmal\",'k':1234}"
   ]
  },
  {
   "cell_type": "code",
   "execution_count": 6,
   "id": "e32092ac-fae5-47cc-8583-ca9f51031b79",
   "metadata": {},
   "outputs": [
    {
     "data": {
      "text/plain": [
       "{'k1': 'nirmal', 'k': 1234}"
      ]
     },
     "execution_count": 6,
     "metadata": {},
     "output_type": "execute_result"
    }
   ],
   "source": [
    "d"
   ]
  },
  {
   "cell_type": "code",
   "execution_count": 7,
   "id": "49e1cb7c-58cb-4d6b-841c-5596e19b3f17",
   "metadata": {},
   "outputs": [],
   "source": [
    "d1={'#name':\"anil\"}"
   ]
  },
  {
   "cell_type": "code",
   "execution_count": 8,
   "id": "269c872f-7c33-4e5f-948d-25305e845927",
   "metadata": {},
   "outputs": [
    {
     "data": {
      "text/plain": [
       "{'#name': 'anil'}"
      ]
     },
     "execution_count": 8,
     "metadata": {},
     "output_type": "execute_result"
    }
   ],
   "source": [
    "d1"
   ]
  },
  {
   "cell_type": "code",
   "execution_count": 9,
   "id": "64035baf-b6c1-4f10-88c1-1dcb3c189cf7",
   "metadata": {},
   "outputs": [
    {
     "data": {
      "text/plain": [
       "'anil'"
      ]
     },
     "execution_count": 9,
     "metadata": {},
     "output_type": "execute_result"
    }
   ],
   "source": [
    "d1['#name']"
   ]
  },
  {
   "cell_type": "code",
   "execution_count": 13,
   "id": "8debca18-9c44-4b21-a28b-7919ae3c0ba7",
   "metadata": {},
   "outputs": [
    {
     "name": "stdout",
     "output_type": "stream",
     "text": [
      "you will be part of A1 batch\n"
     ]
    }
   ],
   "source": [
    "marks = 69\n",
    "if marks >= 80 :\n",
    "    print (\"you will be a part of A0 batch\")\n",
    "elif marks >= 60 and marks< 80:\n",
    "    print(\"you will be part of A1 batch\")\n",
    "elif marks >=60 and marks <40 : \n",
    "    print(\"you will be part of of A2 batch\")\n",
    "else : \n",
    "    print (\"you will be part of A3 batch\")"
   ]
  },
  {
   "cell_type": "code",
   "execution_count": 15,
   "id": "42032d3e-3493-44d8-a637-6bb9311f0de6",
   "metadata": {},
   "outputs": [
    {
     "name": "stdout",
     "output_type": "stream",
     "text": [
      "you will be a part of A0 batch\n"
     ]
    }
   ],
   "source": [
    "marks = 99\n",
    "if marks >= 80 :\n",
    "    print (\"you will be a part of A0 batch\")\n",
    "elif marks >= 60 and marks< 80:\n",
    "    print(\"you will be part of A1 batch\")\n",
    "elif marks >=60 and marks <40 : \n",
    "    print(\"you will be part of of A2 batch\")\n",
    "else : \n",
    "    print (\"you will be part of A3 batch\")"
   ]
  },
  {
   "cell_type": "code",
   "execution_count": 21,
   "id": "edd17672-1ef7-4ffb-9e3f-ff11cac387a7",
   "metadata": {},
   "outputs": [
    {
     "name": "stdin",
     "output_type": "stream",
     "text": [
      "enter your marks 698\n"
     ]
    },
    {
     "name": "stdout",
     "output_type": "stream",
     "text": [
      "you will be a part of A0 batch\n"
     ]
    }
   ],
   "source": [
    "marks = int(input(\"enter your marks\"))\n",
    "if marks >= 80 :\n",
    "    print (\"you will be a part of A0 batch\")\n",
    "elif marks >= 60 and marks< 80:\n",
    "    print(\"you will be part of A1 batch\")\n",
    "elif marks >=60 and marks <40 : \n",
    "    print(\"you will be part of of A2 batch\")\n",
    "else : \n",
    "    print (\"you will be part of A3 batch\")"
   ]
  },
  {
   "cell_type": "code",
   "execution_count": 27,
   "id": "66517f4f-f4c8-46a9-bd4e-1d7da1ba6cab",
   "metadata": {},
   "outputs": [
    {
     "name": "stdin",
     "output_type": "stream",
     "text": [
      "enter your price 5000\n"
     ]
    },
    {
     "name": "stdout",
     "output_type": "stream",
     "text": [
      "i will purches\n"
     ]
    }
   ],
   "source": [
    "price = int(input(\"enter your price\"))\n",
    "if price <1000:\n",
    "    print (\"i will not purches\")\n",
    "    if price < 4000:\n",
    "        print (\"it's too much\")\n",
    "else:\n",
    "    print(\"i will purches\")"
   ]
  },
  {
   "cell_type": "code",
   "execution_count": 31,
   "id": "f2c94e7c-9e97-400f-9fb9-7c3953d58a7f",
   "metadata": {},
   "outputs": [
    {
     "name": "stdin",
     "output_type": "stream",
     "text": [
      "enter your price 8999\n"
     ]
    },
    {
     "name": "stdout",
     "output_type": "stream",
     "text": [
      "i will not purches\n",
      "it's too much\n"
     ]
    }
   ],
   "source": [
    "price = int(input(\"enter your price\"))\n",
    "if price >1000:\n",
    "    print (\"i will not purches\")\n",
    "    if price > 4000:\n",
    "        print (\"it's too much\")"
   ]
  },
  {
   "cell_type": "code",
   "execution_count": 34,
   "id": "75a227c9-c7fb-44d4-9930-78169b299170",
   "metadata": {},
   "outputs": [
    {
     "name": "stdin",
     "output_type": "stream",
     "text": [
      "enter your price 1900\n"
     ]
    },
    {
     "name": "stdout",
     "output_type": "stream",
     "text": [
      "i will not purches\n",
      "it's okk\n"
     ]
    }
   ],
   "source": [
    "price = int(input(\"enter your price\"))\n",
    "if price >1000:\n",
    "    print (\"i will not purches\")\n",
    "    if price > 4000:\n",
    "        print (\"it's too much\")\n",
    "    elif price <2000:\n",
    "        print(\"it's okk\")"
   ]
  },
  {
   "cell_type": "code",
   "execution_count": 35,
   "id": "93597842-9e60-4ebd-98c4-c32572f575e5",
   "metadata": {},
   "outputs": [],
   "source": [
    "l=[1,2,3,4,5,6,7,8,9]"
   ]
  },
  {
   "cell_type": "code",
   "execution_count": 36,
   "id": "f39f7d1d-bcdf-4b35-be85-0387051502a0",
   "metadata": {},
   "outputs": [
    {
     "data": {
      "text/plain": [
       "3"
      ]
     },
     "execution_count": 36,
     "metadata": {},
     "output_type": "execute_result"
    }
   ],
   "source": [
    "l[0]+2"
   ]
  },
  {
   "cell_type": "code",
   "execution_count": 37,
   "id": "bb606a4e-f438-48c4-8433-368c3808ea06",
   "metadata": {},
   "outputs": [
    {
     "data": {
      "text/plain": [
       "2"
      ]
     },
     "execution_count": 37,
     "metadata": {},
     "output_type": "execute_result"
    }
   ],
   "source": [
    "l[0]+1"
   ]
  },
  {
   "cell_type": "code",
   "execution_count": 38,
   "id": "b19b14af-403d-45ca-9a3d-301146dda21e",
   "metadata": {},
   "outputs": [],
   "source": [
    "l1=[]"
   ]
  },
  {
   "cell_type": "code",
   "execution_count": 43,
   "id": "1b1fc69d-fa7a-4aba-b919-9ce990165b54",
   "metadata": {},
   "outputs": [],
   "source": [
    "l1.append(l[0]+1)"
   ]
  },
  {
   "cell_type": "code",
   "execution_count": 44,
   "id": "23975c91-c115-4cc1-839c-d3a894527cd0",
   "metadata": {},
   "outputs": [
    {
     "data": {
      "text/plain": [
       "[2, 2]"
      ]
     },
     "execution_count": 44,
     "metadata": {},
     "output_type": "execute_result"
    }
   ],
   "source": [
    "l1"
   ]
  },
  {
   "cell_type": "code",
   "execution_count": 45,
   "id": "ebd7ace0-e407-4a7b-93d5-5a293549a5b7",
   "metadata": {},
   "outputs": [
    {
     "data": {
      "text/plain": [
       "[1, 2, 3, 4, 5, 6, 7, 8, 9]"
      ]
     },
     "execution_count": 45,
     "metadata": {},
     "output_type": "execute_result"
    }
   ],
   "source": [
    "l"
   ]
  },
  {
   "cell_type": "code",
   "execution_count": 47,
   "id": "36f9ec1e-23e2-4f9c-8d81-ae84b626d1a1",
   "metadata": {},
   "outputs": [
    {
     "name": "stdout",
     "output_type": "stream",
     "text": [
      "2\n",
      "3\n",
      "4\n",
      "5\n",
      "6\n",
      "7\n",
      "8\n",
      "9\n",
      "10\n"
     ]
    }
   ],
   "source": [
    "for i in l:\n",
    "    print(i+1)"
   ]
  },
  {
   "cell_type": "code",
   "execution_count": 49,
   "id": "503900a8-9202-4aa5-8c7c-b3e303fb0477",
   "metadata": {},
   "outputs": [
    {
     "name": "stdout",
     "output_type": "stream",
     "text": [
      "2\n",
      "3\n",
      "4\n",
      "5\n",
      "6\n",
      "7\n",
      "8\n",
      "9\n",
      "10\n"
     ]
    },
    {
     "data": {
      "text/plain": [
       "[2, 3, 4, 5, 6, 7, 8, 9, 10]"
      ]
     },
     "execution_count": 49,
     "metadata": {},
     "output_type": "execute_result"
    }
   ],
   "source": [
    "l1=[]\n",
    "for i in l:\n",
    "    print(i+1)\n",
    "    l1.append(i+1)\n",
    "l1"
   ]
  },
  {
   "cell_type": "code",
   "execution_count": 50,
   "id": "4967a1f1-15ef-4283-9243-161710f18791",
   "metadata": {},
   "outputs": [
    {
     "data": {
      "text/plain": [
       "[1, 2, 3, 4, 5, 6, 7, 8, 9]"
      ]
     },
     "execution_count": 50,
     "metadata": {},
     "output_type": "execute_result"
    }
   ],
   "source": [
    "l"
   ]
  },
  {
   "cell_type": "code",
   "execution_count": 53,
   "id": "af79120e-12b7-4504-8194-db1c2df1a780",
   "metadata": {},
   "outputs": [],
   "source": [
    "l=['nirmal','pwskill','classes of data science']"
   ]
  },
  {
   "cell_type": "code",
   "execution_count": 54,
   "id": "d48a7deb-fe08-4d1f-9b96-52535e3d1dc2",
   "metadata": {},
   "outputs": [
    {
     "name": "stdout",
     "output_type": "stream",
     "text": [
      "nirmal\n",
      "pwskill\n",
      "classes of data science\n"
     ]
    }
   ],
   "source": [
    "for i in l:\n",
    "    print(i)"
   ]
  },
  {
   "cell_type": "code",
   "execution_count": 55,
   "id": "efdcb130-fdda-4575-a69c-811c7a1a3c3b",
   "metadata": {},
   "outputs": [
    {
     "name": "stdout",
     "output_type": "stream",
     "text": [
      "nirmal\n",
      "pwskill\n",
      "classes of data science\n"
     ]
    }
   ],
   "source": [
    "l1=[]\n",
    "for i in l:\n",
    "    print(i)\n",
    "    l1.append(i.upper())"
   ]
  },
  {
   "cell_type": "code",
   "execution_count": 56,
   "id": "732dfeb0-66e4-4fdc-a679-6476828d18bf",
   "metadata": {},
   "outputs": [
    {
     "data": {
      "text/plain": [
       "['NIRMAL', 'PWSKILL', 'CLASSES OF DATA SCIENCE']"
      ]
     },
     "execution_count": 56,
     "metadata": {},
     "output_type": "execute_result"
    }
   ],
   "source": [
    "l1"
   ]
  },
  {
   "cell_type": "code",
   "execution_count": 59,
   "id": "46679297-e5ff-48bf-b61b-60eaed989abe",
   "metadata": {},
   "outputs": [],
   "source": [
    "l=[1,2,3,4,'nirmal','maurya',43,55,'jaya']"
   ]
  },
  {
   "cell_type": "code",
   "execution_count": null,
   "id": "369510e3-977e-40e5-b22d-dce4862517fb",
   "metadata": {},
   "outputs": [],
   "source": [
    "l1_num=[]\n",
    "l2_str=[]\n",
    "for i in l:\n",
    "    "
   ]
  },
  {
   "cell_type": "code",
   "execution_count": null,
   "id": "cb11ccaa-23d6-497a-b7af-069b3772db64",
   "metadata": {},
   "outputs": [],
   "source": []
  }
 ],
 "metadata": {
  "kernelspec": {
   "display_name": "Python 3 (ipykernel)",
   "language": "python",
   "name": "python3"
  },
  "language_info": {
   "codemirror_mode": {
    "name": "ipython",
    "version": 3
   },
   "file_extension": ".py",
   "mimetype": "text/x-python",
   "name": "python",
   "nbconvert_exporter": "python",
   "pygments_lexer": "ipython3",
   "version": "3.10.6"
  },
  "toc-autonumbering": true
 },
 "nbformat": 4,
 "nbformat_minor": 5
}
